{
 "cells": [
  {
   "cell_type": "code",
   "execution_count": 1,
   "metadata": {},
   "outputs": [],
   "source": [
    "import os\n",
    "import ipywidgets as widgets\n",
    "import pandas as pd\n",
    "import numpy as np\n",
    "from sklearn.preprocessing import LabelEncoder\n",
    "from phaser.utils import load_labelencoders, bin2bool\n",
    "\n",
    "\n",
    "hash_dist_dir = r\"./demo_outputs/\"\n",
    "\n",
    "# Load the label encoders\n",
    "le = load_labelencoders(filename=\"LabelEncoders\", path=hash_dist_dir)\n",
    "\n",
    "# Get values to construct triplets\n",
    "TRANSFORMS = le[\"t\"].classes_\n",
    "METRICS = le[\"m\"].classes_\n",
    "ALGORITHMS = le[\"a\"].classes_\n",
    "\n",
    "df_d = pd.read_csv(os.path.join(hash_dist_dir , \"distances.csv.bz2\"))\n",
    "df_h = pd.read_csv(os.path.join(hash_dist_dir , \"hashes.csv.bz2\"))\n",
    "\n",
    "# convert the strings to arrays\n",
    "for _a in ALGORITHMS:\n",
    "    df_h[_a] = df_h[_a].apply(bin2bool)\n",
    "\n",
    "\n",
    "# # Create a label encoder for the class labels\n",
    "# le_c = LabelEncoder()\n",
    "# le_c.classes_ = np.array([\"Inter (0)\", \"Intra (1)\"])\n",
    "intra_df = df_d[df_d[\"class\"] == 1]\n",
    "inter_df = df_d[df_d[\"class\"] == 0]\n"
   ]
  },
  {
   "cell_type": "code",
   "execution_count": 2,
   "metadata": {},
   "outputs": [
    {
     "data": {
      "application/vnd.jupyter.widget-view+json": {
       "model_id": "f6a7d5e87adb4393885821e3e4ee73da",
       "version_major": 2,
       "version_minor": 0
      },
      "text/plain": [
       "interactive(children=(Dropdown(description='Transform', options=('Border_bw20_bc255.0.0', 'Border_bw30_bc255.0…"
      ]
     },
     "metadata": {},
     "output_type": "display_data"
    },
    {
     "name": "stdout",
     "output_type": "stream",
     "text": [
      "['colour' 'pdq' 'phash'] ['Cosine' 'Hamming'] ['Border_bw20_bc255.0.0' 'Border_bw30_bc255.0.0' 'Flip_Horizontal' 'orig']\n"
     ]
    },
    {
     "data": {
      "application/vnd.jupyter.widget-view+json": {
       "model_id": "0d196ba7fce14f66a234628efb0513fa",
       "version_major": 2,
       "version_minor": 0
      },
      "text/plain": [
       "interactive(children=(Dropdown(description='Metric', options=('Cosine', 'Hamming'), value='Cosine'), Dropdown(…"
      ]
     },
     "metadata": {},
     "output_type": "display_data"
    },
    {
     "data": {
      "application/vnd.jupyter.widget-view+json": {
       "model_id": "65baa1c3009d44e981b6f2fca1ff0c8f",
       "version_major": 2,
       "version_minor": 0
      },
      "text/plain": [
       "interactive(children=(Dropdown(description='Transform', options=('Border_bw20_bc255.0.0', 'Border_bw30_bc255.0…"
      ]
     },
     "metadata": {},
     "output_type": "display_data"
    }
   ],
   "source": [
    "from phaser.evaluation import dist_stats\n",
    "from phaser.plotting import  hist_fig, kde_ax\n",
    "import matplotlib.pyplot as plt\n",
    "from ipywidgets import interact, interactive, fixed, interact_manual, VBox\n",
    "import warnings\n",
    "warnings.simplefilter(action='ignore', category=FutureWarning)\n",
    "\n",
    "\n",
    "# macro_tables = []\n",
    "# for transform in TRANSFORMS[:-1]:\n",
    "#     stats = macro_stats(\n",
    "#         data=intra_df, le_a=le_a, le_m=le_m, transform=transform, style=False\n",
    "#     )\n",
    "#     macro_tables.append(str(stats))\n",
    "\n",
    "\n",
    "\n",
    "def plot_image(transform, mode):\n",
    "    data = df_h\n",
    "    if transform != 'Select':\n",
    "        if mode == \"inter\":\n",
    "            fig = hist_fig(inter_df, label_encoding=le, transform=transform, interactive=True)\n",
    "        elif mode == \"intra\":\n",
    "            fig = hist_fig(intra_df, label_encoding=le, transform=transform, interactive=True)\n",
    "\n",
    "#define widgets\n",
    "tselect = widgets.Dropdown(\n",
    "        options=TRANSFORMS[:-1],\n",
    "        description='Transform'\n",
    "    )\n",
    "mselect = widgets.Dropdown(\n",
    "        options=METRICS,\n",
    "        description='Metric'\n",
    "    )\n",
    "aselect = widgets.Dropdown(\n",
    "        options=ALGORITHMS,\n",
    "        description='Algorithm'\n",
    "    )\n",
    "modeselect = widgets.Dropdown(\n",
    "        options=[\"inter\", \"intra\"],\n",
    "        description='Comparison Mode'\n",
    "    )\n",
    "\n",
    "# #interact function in isolation\n",
    "h = interactive(plot_image, transform=tselect, mode=modeselect)\n",
    "display(h)\n",
    "\n",
    "#print(df)\n",
    "\n",
    "### KDE multi\n",
    "def kde_plot_multi(transform):\n",
    "    if transform != 'Select':\n",
    "\n",
    "        #t_label = le_a.transform(np.array(transform).ravel()\n",
    "        n_cols = len(METRICS)\n",
    "        n_rows = len(ALGORITHMS)\n",
    "        # Subset data\n",
    "        fig, axes = plt.subplots(ncols=n_cols, nrows=n_rows, figsize=(6,6), constrained_layout=True, \n",
    "                                 sharex=True, sharey=False)\n",
    "                                 \n",
    "        for col_i, metric in enumerate(METRICS):\n",
    "            for row_i, algo in enumerate(ALGORITHMS):\n",
    "                    # Transform strings to labels\n",
    "                    m_label = le[\"m\"].transform(np.array(metric).ravel())\n",
    "                    a_label = le[\"a\"].transform(np.array(algo).ravel())\n",
    "\n",
    "                    # Subset data and get the distances for the chosen transformation\n",
    "                    _X = df_d.query(f\"algo=={a_label} and metric == {m_label}\")\n",
    "                    kde_ax(_X, transform, label_encoding=le, fill=True, title=f\"{a_label.capitalize()} - {m_label.capitalize()}\"\", ax=axes[row_i, col_i]\n",
    ")\n",
    "\n",
    "### KDE Single\n",
    "def kde_plot(metric, algorithm, transform):\n",
    "    if transform != 'Select':\n",
    "\n",
    "\n",
    "        m_label = le[\"m\"].transform(np.array(metric).ravel())\n",
    "        a_label = le[\"a\"].transform(np.array(algorithm).ravel())\n",
    "        #t_label = le_a.transform(np.array(transform).ravel())\n",
    "\n",
    "\n",
    "        # Subset data\n",
    "        print()\n",
    "        data = df_d.query(f\"algo == {a_label} and metric == {m_label}\").copy()\n",
    "        fig, ax = plt.subplots(ncols=1, nrows=1, figsize=(4,3), constrained_layout=True)\n",
    "        ax = kde_ax(data, transform, label_encoding=le, fill=True, title=f\"{algorithm} - {metric} - {transform}\", ax=ax\n",
    ")        \n",
    "\n",
    "print(ALGORITHMS, METRICS,TRANSFORMS)\n",
    "\n",
    "#kde_plot(metric=\"Hamming\", algorithm=\"pHash\", transform=\"Flip_Horizontal\")\n",
    "z = interactive(kde_plot, metric=mselect, algorithm=aselect, transform=tselect)\n",
    "display(z)\n",
    "\n",
    "k = interactive(kde_plot_multi, transform=tselect)\n",
    "display(k)\n"
   ]
  }
 ],
 "metadata": {
  "kernelspec": {
   "display_name": "perceptual-framework",
   "language": "python",
   "name": "python3"
  },
  "language_info": {
   "codemirror_mode": {
    "name": "ipython",
    "version": 3
   },
   "file_extension": ".py",
   "mimetype": "text/x-python",
   "name": "python",
   "nbconvert_exporter": "python",
   "pygments_lexer": "ipython3",
   "version": "3.11.5"
  },
  "orig_nbformat": 4
 },
 "nbformat": 4,
 "nbformat_minor": 2
}
